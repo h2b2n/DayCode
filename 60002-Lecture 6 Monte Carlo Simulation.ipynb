{
 "cells": [
  {
   "cell_type": "code",
   "execution_count": null,
   "metadata": {},
   "outputs": [],
   "source": [
    "##Key concepts: popularity, sample, variance-confidence level & interval\n",
    "## law of large numbers <-> gambler's fallacy \n",
    "## regession to the mean\n",
    "## PDF(Probability Density Function)\n",
    "\n",
    "\n",
    "## additional reading\n",
    "## :https://machinelearningmastery.com/monte-carlo-sampling-for-probability/\n",
    "## :https://www.investopedia.com/terms/m/montecarlosimulation.asp"
   ]
  }
 ],
 "metadata": {
  "kernelspec": {
   "display_name": "Python 3",
   "language": "python",
   "name": "python3"
  },
  "language_info": {
   "codemirror_mode": {
    "name": "ipython",
    "version": 3
   },
   "file_extension": ".py",
   "mimetype": "text/x-python",
   "name": "python",
   "nbconvert_exporter": "python",
   "pygments_lexer": "ipython3",
   "version": "3.8.3"
  }
 },
 "nbformat": 4,
 "nbformat_minor": 4
}
